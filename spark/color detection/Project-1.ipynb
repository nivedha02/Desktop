{
 "cells": [
  {
   "cell_type": "code",
   "execution_count": 1,
   "source": [
    "import cv2\r\n",
    "import pandas as pd\r\n",
    "\r\n",
    "img_path=\"img\\with boat.jpg\" \r\n",
    "csv_path=\"colors.csv.txt\"\r\n",
    "\r\n",
    "#Reading csv file with pandas \r\n",
    "csv=pd.read_csv(csv_path)\r\n",
    "print(csv.head(10)) #shows 11 since we didn't add any header"
   ],
   "outputs": [
    {
     "output_type": "stream",
     "name": "stdout",
     "text": [
      "     air_force_blue_raf   Air Force Blue (Raf)  #5d8aa8   93  138  168\n",
      "0   air_force_blue_usaf  Air Force Blue (Usaf)  #00308f    0   48  143\n",
      "1  air_superiority_blue   Air Superiority Blue  #72a0c1  114  160  193\n",
      "2       alabama_crimson        Alabama Crimson  #a32638  163   38   56\n",
      "3            alice_blue             Alice Blue  #f0f8ff  240  248  255\n",
      "4      alizarin_crimson       Alizarin Crimson  #e32636  227   38   54\n",
      "5          alloy_orange           Alloy Orange  #c46210  196   98   16\n",
      "6                almond                 Almond  #efdecd  239  222  205\n",
      "7              amaranth               Amaranth  #e52b50  229   43   80\n",
      "8                 amber                  Amber  #ffbf00  255  191    0\n",
      "9         amber_sae_ece        Amber (Sae/Ece)  #ff7e00  255  126    0\n"
     ]
    }
   ],
   "metadata": {}
  },
  {
   "cell_type": "markdown",
   "source": [
    "## The above code shows index,name,color name,hex value,RED,GREEN,BLUE."
   ],
   "metadata": {}
  },
  {
   "cell_type": "code",
   "execution_count": 2,
   "source": [
    "##Reading and modifying CSV\r\n",
    "index=['color','color_name','hex','R','G','B'] #adding header\r\n",
    "csv=pd.read_csv(csv_path,names=index,header=None)\r\n",
    "print(csv.head(10)) #look we got 11 values including header\r\n",
    "print(\"lenght:{}\".format(len(csv))) #total no.of rows in te data set\r\n"
   ],
   "outputs": [
    {
     "output_type": "stream",
     "name": "stdout",
     "text": [
      "                  color             color_name      hex    R    G    B\n",
      "0    air_force_blue_raf   Air Force Blue (Raf)  #5d8aa8   93  138  168\n",
      "1   air_force_blue_usaf  Air Force Blue (Usaf)  #00308f    0   48  143\n",
      "2  air_superiority_blue   Air Superiority Blue  #72a0c1  114  160  193\n",
      "3       alabama_crimson        Alabama Crimson  #a32638  163   38   56\n",
      "4            alice_blue             Alice Blue  #f0f8ff  240  248  255\n",
      "5      alizarin_crimson       Alizarin Crimson  #e32636  227   38   54\n",
      "6          alloy_orange           Alloy Orange  #c46210  196   98   16\n",
      "7                almond                 Almond  #efdecd  239  222  205\n",
      "8              amaranth               Amaranth  #e52b50  229   43   80\n",
      "9                 amber                  Amber  #ffbf00  255  191    0\n",
      "lenght:865\n"
     ]
    }
   ],
   "metadata": {}
  },
  {
   "cell_type": "code",
   "execution_count": 3,
   "source": [
    "#Some intial conditions for later use\r\n",
    "clicked=False\r\n",
    "r=g=b=x_pos=y_pos=0"
   ],
   "outputs": [],
   "metadata": {}
  },
  {
   "cell_type": "code",
   "execution_count": 4,
   "source": [
    "##Reading and modifying img\r\n",
    "img=cv2.imread(img_path)\r\n",
    "resize=cv2.resize(img,(800,600))\r\n",
    "print(img) #when we try to print the img it will print the array of pixcels since,img is a collection of pixcels.\r\n",
    "print(resize)\r\n"
   ],
   "outputs": [
    {
     "output_type": "stream",
     "name": "stdout",
     "text": [
      "[[[250 250 244]\n",
      "  [250 250 244]\n",
      "  [250 250 244]\n",
      "  ...\n",
      "  [251 254 245]\n",
      "  [251 254 245]\n",
      "  [251 254 245]]\n",
      "\n",
      " [[250 250 244]\n",
      "  [250 250 244]\n",
      "  [250 250 244]\n",
      "  ...\n",
      "  [251 254 245]\n",
      "  [251 254 245]\n",
      "  [251 254 245]]\n",
      "\n",
      " [[250 250 244]\n",
      "  [250 250 244]\n",
      "  [250 250 244]\n",
      "  ...\n",
      "  [251 254 245]\n",
      "  [251 254 245]\n",
      "  [251 254 245]]\n",
      "\n",
      " ...\n",
      "\n",
      " [[ 26  40  29]\n",
      "  [ 15  29  18]\n",
      "  [ 12  26  15]\n",
      "  ...\n",
      "  [ 47  61  49]\n",
      "  [ 46  60  48]\n",
      "  [ 46  61  47]]\n",
      "\n",
      " [[ 17  31  20]\n",
      "  [ 12  26  15]\n",
      "  [ 12  26  15]\n",
      "  ...\n",
      "  [ 47  61  49]\n",
      "  [ 46  60  48]\n",
      "  [ 46  61  47]]\n",
      "\n",
      " [[  9  23  12]\n",
      "  [ 10  24  13]\n",
      "  [ 15  29  18]\n",
      "  ...\n",
      "  [ 47  61  49]\n",
      "  [ 46  60  48]\n",
      "  [ 46  61  47]]]\n",
      "[[[250 250 244]\n",
      "  [248 250 244]\n",
      "  [243 251 241]\n",
      "  ...\n",
      "  [255 255 249]\n",
      "  [255 255 247]\n",
      "  [251 254 245]]\n",
      "\n",
      " [[249 250 244]\n",
      "  [244 252 242]\n",
      "  [243 252 242]\n",
      "  ...\n",
      "  [255 255 249]\n",
      "  [255 255 247]\n",
      "  [252 255 246]]\n",
      "\n",
      " [[251 250 242]\n",
      "  [243 252 242]\n",
      "  [239 253 242]\n",
      "  ...\n",
      "  [255 255 250]\n",
      "  [255 255 250]\n",
      "  [255 255 250]]\n",
      "\n",
      " ...\n",
      "\n",
      " [[ 54  73  58]\n",
      "  [ 33  48  41]\n",
      "  [ 48  62  56]\n",
      "  ...\n",
      "  [ 39  59  48]\n",
      "  [ 32  52  41]\n",
      "  [ 35  53  41]]\n",
      "\n",
      " [[ 20  35  17]\n",
      "  [ 59  71  51]\n",
      "  [ 39  50  30]\n",
      "  ...\n",
      "  [ 38  55  41]\n",
      "  [ 45  63  46]\n",
      "  [ 51  67  50]]\n",
      "\n",
      " [[ 14  28  17]\n",
      "  [  9  23  11]\n",
      "  [  6  18   6]\n",
      "  ...\n",
      "  [ 42  59  46]\n",
      "  [ 45  62  49]\n",
      "  [ 46  60  48]]]\n"
     ]
    }
   ],
   "metadata": {}
  },
  {
   "cell_type": "code",
   "execution_count": 5,
   "source": [
    "def get_color_name(R, G, B):\r\n",
    "    minimum = 10000\r\n",
    "    for i in range(len(csv)):\r\n",
    "        d = abs(R - int(csv.loc[i, \"R\"])) + abs(G - int(csv.loc[i, \"G\"])) + abs(B - int(csv.loc[i, \"B\"]))\r\n",
    "        #print (d)\r\n",
    "        if d <= minimum:\r\n",
    "            minimum = d\r\n",
    "            cname = csv.loc[i, \"color_name\"]\r\n",
    "    return cname"
   ],
   "outputs": [],
   "metadata": {}
  },
  {
   "cell_type": "code",
   "execution_count": 6,
   "source": [
    "def draw_function(event,x,y,flags,params): \r\n",
    "    if event == cv2.EVENT_LBUTTONDBLCLK:\r\n",
    "        global clicked,r,g,b,x_pos,y_pos\r\n",
    "        clicked=True\r\n",
    "        x_pos=x\r\n",
    "        y_pos=y\r\n",
    "        print(\"x and y coordinates:\",x,y) #Returns x and y position while button clicking\r\n",
    "        b,g,r=img[y,x]\r\n",
    "        b=int(b)\r\n",
    "        g=int(g)\r\n",
    "        r=int(r)\r\n",
    "        print(\"BGR value:\",b,g,r)\r\n"
   ],
   "outputs": [],
   "metadata": {}
  },
  {
   "cell_type": "code",
   "execution_count": 7,
   "source": [
    "cv2.namedWindow(\"output\")\r\n",
    "cv2.setMouseCallback(\"output\",draw_function)\r\n",
    "\r\n",
    "while True:\r\n",
    "\r\n",
    "    cv2.imshow(\"output\", resize)\r\n",
    "    if clicked:\r\n",
    "\r\n",
    "        # cv2.rectangle(image, start point, endpoint, color, thickness)-1 fills entire rectangle\r\n",
    "        cv2.rectangle(resize, (20, 20), (750, 60), (b,g,r), -1)\r\n",
    "\r\n",
    "        # Creating text string to display( Color name and RGB values )\r\n",
    "        text = get_color_name(r, g, b) + ' R=' + str(r) + ' G=' + str(g) + ' B=' + str(b)\r\n",
    "\r\n",
    "        # cv2.putText(img,text,start,font(0-7),fontScale,color,thickness,lineType )\r\n",
    "        cv2.putText(resize, text, (50, 50), 2, 0.8, (255, 255, 255), 2, cv2.LINE_AA)\r\n",
    "\r\n",
    "        # For very light colours we will display text in black colour\r\n",
    "        if r + g + b >= 600:\r\n",
    "            cv2.putText(resize, text, (50, 50), 2, 0.8, (0, 0, 0), 2, cv2.LINE_AA)\r\n",
    "\r\n",
    "        clicked = False\r\n",
    "\r\n",
    "     # Break the loop when user hits 'esc' key\r\n",
    "    if cv2.waitKey(20) & 0xFF == 27:\r\n",
    "        break\r\n",
    "\r\n",
    "cv2.destroyAllWindows()\r\n"
   ],
   "outputs": [
    {
     "output_type": "stream",
     "name": "stdout",
     "text": [
      "x and y coordinates: 474 314\n",
      "BGR value: 255 255 249\n",
      "x and y coordinates: 445 305\n",
      "BGR value: 255 255 247\n"
     ]
    }
   ],
   "metadata": {}
  }
 ],
 "metadata": {
  "orig_nbformat": 4,
  "language_info": {
   "name": "python"
  }
 },
 "nbformat": 4,
 "nbformat_minor": 2
}