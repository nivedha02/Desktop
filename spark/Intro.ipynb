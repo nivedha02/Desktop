{
 "cells": [
  {
   "cell_type": "markdown",
   "metadata": {},
   "source": [
    "\r\n",
    "# My First Notebook\r\n",
    "\r\n",
    "This cell will render as _rich-formatted text_ when it is evaluated . In order to make a cell markdown(which is a document)click the markdown button in the top.\r\n",
    " \r\n",
    "* heading #\r\n",
    "* subheading ##\r\n",
    "* bulleted lists with stars *\r\n",
    "* ** bolded text **\r\n",
    "* [ links] (https...)\r\n",
    "\r\n",
    "\r\n",
    "## subheaading\r\n",
    "* hello lady\r\n",
    "* **I'm bold**\r\n",
    "* [links to web page](https://www.google.com)"
   ]
  },
  {
   "cell_type": "code",
   "execution_count": 24,
   "metadata": {},
   "outputs": [
    {
     "name": "stdout",
     "output_type": "stream",
     "text": [
      "hello,cris\n"
     ]
    }
   ],
   "source": [
    "name:str=\"cris\"\r\n",
    "print(f\"hello,{name}\")"
   ]
  },
  {
   "cell_type": "markdown",
   "metadata": {},
   "source": [
    "## keyboard shortcuts\r\n",
    "\r\n",
    "'ctrl + enter' - evaluates the current cell and keeps focus in the current cell.\r\n",
    "\r\n",
    "'shift + enter' - evaluates the current cell and moves focus(blue line on the left)to the next cell."
   ]
  },
  {
   "cell_type": "code",
   "execution_count": 26,
   "metadata": {},
   "outputs": [
    {
     "name": "stdout",
     "output_type": "stream",
     "text": [
      "wow,cris,you are doing great!\n"
     ]
    }
   ],
   "source": [
    "print(f\"wow,{name},you are doing great!\")\r\n"
   ]
  },
  {
   "cell_type": "markdown",
   "metadata": {},
   "source": [
    "In the above code ,name is a global variable."
   ]
  },
  {
   "cell_type": "markdown",
   "metadata": {},
   "source": [
    "They is conversion of not using print statement.where the last expression will be evaluate.\r\n"
   ]
  },
  {
   "cell_type": "code",
   "execution_count": 27,
   "metadata": {},
   "outputs": [
    {
     "data": {
      "text/plain": [
       "'cris'"
      ]
     },
     "execution_count": 27,
     "metadata": {},
     "output_type": "execute_result"
    }
   ],
   "source": [
    "name"
   ]
  },
  {
   "cell_type": "code",
   "execution_count": 28,
   "metadata": {},
   "outputs": [
    {
     "name": "stdout",
     "output_type": "stream",
     "text": [
      "cris\n"
     ]
    }
   ],
   "source": [
    "print(name)\r\n"
   ]
  },
  {
   "cell_type": "code",
   "execution_count": 31,
   "metadata": {},
   "outputs": [
    {
     "name": "stdout",
     "output_type": "stream",
     "text": [
      "I'm name wefd\n"
     ]
    },
    {
     "data": {
      "text/plain": [
       "'wefd'"
      ]
     },
     "execution_count": 31,
     "metadata": {},
     "output_type": "execute_result"
    }
   ],
   "source": [
    "name=\"wefd\"\r\n",
    "name\r\n",
    "print(\"I'm name\",name)\r\n",
    "name"
   ]
  },
  {
   "cell_type": "markdown",
   "metadata": {},
   "source": [
    "### Now,you may understood.\r\n",
    "## That's it .........we done."
   ]
  }
 ],
 "metadata": {
  "interpreter": {
   "hash": "f4fde45515710cbe4f4cf44a8ddef1b298277709bd6c5462499553af68a98f2e"
  },
  "kernelspec": {
   "display_name": "Python 3.9.6 64-bit",
   "name": "python3"
  },
  "language_info": {
   "codemirror_mode": {
    "name": "ipython",
    "version": 3
   },
   "file_extension": ".py",
   "mimetype": "text/x-python",
   "name": "python",
   "nbconvert_exporter": "python",
   "pygments_lexer": "ipython3",
   "version": "3.9.6"
  },
  "orig_nbformat": 4
 },
 "nbformat": 4,
 "nbformat_minor": 2
}