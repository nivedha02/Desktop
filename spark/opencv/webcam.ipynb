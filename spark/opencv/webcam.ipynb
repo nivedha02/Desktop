{
 "cells": [
  {
   "cell_type": "code",
   "execution_count": 3,
   "source": [
    "#webcam code\r\n",
    "import cv2\r\n",
    "frameWidth=640\r\n",
    "frameHeight=480\r\n",
    "cap=cv2.VideoCapture(0)\r\n",
    "cap.set(3,frameWidth)#Width of  id NUMBER 3\r\n",
    "cap.set(4,frameHeight)#Height of id NUMBER 4\r\n",
    "cap.set(10,130)#id number for brightness with its value\r\n",
    "while True:\r\n",
    "    success,img=cap.read()\r\n",
    "    cv2.imshow(\"ressult\",img)\r\n",
    "    if cv2.waitKey(1) & 0xFF ==ord('q'):\r\n",
    "        break"
   ],
   "outputs": [],
   "metadata": {}
  }
 ],
 "metadata": {
  "orig_nbformat": 4,
  "language_info": {
   "name": "python"
  }
 },
 "nbformat": 4,
 "nbformat_minor": 2
}