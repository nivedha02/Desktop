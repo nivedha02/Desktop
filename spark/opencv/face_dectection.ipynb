{
 "cells": [
  {
   "cell_type": "code",
   "execution_count": 10,
   "source": [
    "import cv2\r\n",
    "\r\n",
    "#This is the location of the cascadecalssifier lib...copy that path and paste it here\r\n",
    "faceCascade=cv2.CascadeClassifier(r\"C:\\Program Files\\Python\\Lib\\site-packages\\cv2\\data\\haarcascade_frontalface_default.xml\")\r\n",
    "\r\n",
    "img=cv2.imread(r\"C:\\Users\\admin\\Pictures\\groupphoto.jpg\")\r\n",
    "imggray=cv2.cvtColor(img,cv2.COLOR_BGR2GRAY)\r\n",
    "\r\n",
    "faces=faceCascade.detectMultiScale(imggray,1.1,4)\r\n",
    "\r\n",
    "for (x,y,w,h) in faces:\r\n",
    "    cv2.rectangle(img,(x,y),(x+w,y+h),(255,0,0),2)#img,starting point,diagonal,color,Thickness\r\n",
    "\r\n",
    "cv2.imshow(\"Result\",img)\r\n",
    "cv2.waitKey(0)"
   ],
   "outputs": [
    {
     "output_type": "execute_result",
     "data": {
      "text/plain": [
       "-1"
      ]
     },
     "metadata": {},
     "execution_count": 10
    }
   ],
   "metadata": {}
  }
 ],
 "metadata": {
  "orig_nbformat": 4,
  "language_info": {
   "name": "python"
  }
 },
 "nbformat": 4,
 "nbformat_minor": 2
}