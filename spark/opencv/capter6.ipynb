{
 "cells": [
  {
   "cell_type": "code",
   "execution_count": 1,
   "source": [
    "import cv2\r\n",
    "import numpy as np\r\n",
    "\r\n",
    "#img=cv2.imread(r\"C:\\Users\\admin\\Pictures\\naruto.jpg\") #src image\r\n",
    "img=cv2.imread(r\"img\\with boat.jpg\") #img within a floder\r\n",
    "img_resize=cv2.resize(img,(500,600)) #resizing the src\r\n",
    "\r\n",
    "horizontal=np.hstack((img_resize,img_resize)) #right_left images\r\n",
    "vertical=np.vstack((img_resize,img_resize)) #top_bottom images\r\n",
    "\r\n",
    "cv2.imshow(\"horizontal\",horizontal) \r\n",
    "cv2.imshow(\"vertical\",vertical)\r\n",
    "\r\n",
    "cv2.waitKey(0)"
   ],
   "outputs": [
    {
     "output_type": "execute_result",
     "data": {
      "text/plain": [
       "-1"
      ]
     },
     "metadata": {},
     "execution_count": 1
    }
   ],
   "metadata": {}
  },
  {
   "cell_type": "markdown",
   "source": [
    "The above method is donw using numpy.It as few disadvandges like,\r\n",
    "* we can't add two images with different scale that one with grey scale and other with color scale(i.e different in channels is  not accepted because we're talking about matrices)\r\n",
    "* resizing is not possible,sometimes the image may go out of the screen.\r\n"
   ],
   "metadata": {}
  },
  {
   "cell_type": "markdown",
   "source": [
    "A big function is written to overcome these issues."
   ],
   "metadata": {}
  },
  {
   "cell_type": "code",
   "execution_count": 2,
   "source": [
    "import cv2\r\n",
    "import numpy as np\r\n",
    "\r\n",
    "img=cv2.imread(r'c:\\Users\\admin\\Pictures\\cloud.jpg')\r\n",
    "imggray=cv2.cvtColor(img,cv2.COLOR_BGR2GRAY)\r\n",
    "\r\n",
    "\r\n",
    "def stackImages(scale,imgArray):\r\n",
    "    rows = len(imgArray)\r\n",
    "    cols = len(imgArray[0])\r\n",
    "    rowsAvailable = isinstance(imgArray[0], list)\r\n",
    "    width = imgArray[0][0].shape[1]\r\n",
    "    height = imgArray[0][0].shape[0]\r\n",
    "    if rowsAvailable:\r\n",
    "        for x in range ( 0, rows):\r\n",
    "            for y in range(0, cols):\r\n",
    "                if imgArray[x][y].shape[:2] == imgArray[0][0].shape [:2]:\r\n",
    "                    imgArray[x][y] = cv2.resize(imgArray[x][y], (0, 0), None, scale, scale)\r\n",
    "                else:\r\n",
    "                    imgArray[x][y] = cv2.resize(imgArray[x][y], (imgArray[0][0].shape[1], imgArray[0][0].shape[0]), None, scale, scale)\r\n",
    "                if len(imgArray[x][y].shape) == 2: imgArray[x][y]= cv2.cvtColor( imgArray[x][y], cv2.COLOR_GRAY2BGR)\r\n",
    "        imageBlank = np.zeros((height, width, 3), np.uint8)\r\n",
    "        hor = [imageBlank]*rows\r\n",
    "        hor_con = [imageBlank]*rows\r\n",
    "        for x in range(0, rows):\r\n",
    "            hor[x] = np.hstack(imgArray[x])\r\n",
    "        ver = np.vstack(hor)\r\n",
    "    else:\r\n",
    "        for x in range(0, rows):\r\n",
    "            if imgArray[x].shape[:2] == imgArray[0].shape[:2]:\r\n",
    "                imgArray[x] = cv2.resize(imgArray[x], (0, 0), None, scale, scale)\r\n",
    "            else:\r\n",
    "                imgArray[x] = cv2.resize(imgArray[x], (imgArray[0].shape[1], imgArray[0].shape[0]), None,scale, scale)\r\n",
    "            if len(imgArray[x].shape) == 2: imgArray[x] = cv2.cvtColor(imgArray[x], cv2.COLOR_GRAY2BGR)\r\n",
    "        hor= np.hstack(imgArray)\r\n",
    "        ver = hor\r\n",
    "    return ver\r\n",
    "\r\n",
    "\r\n",
    "\r\n",
    "imgstack=stackImages(0.6,([img,imggray],[img,img])) #scale,row,column\r\n",
    "cv2.imshow(\"Result\",imgstack)\r\n",
    "cv2.waitKey(0 )"
   ],
   "outputs": [
    {
     "output_type": "execute_result",
     "data": {
      "text/plain": [
       "-1"
      ]
     },
     "metadata": {},
     "execution_count": 2
    }
   ],
   "metadata": {}
  }
 ],
 "metadata": {
  "interpreter": {
   "hash": "f4fde45515710cbe4f4cf44a8ddef1b298277709bd6c5462499553af68a98f2e"
  },
  "kernelspec": {
   "display_name": "Python 3.9.6 64-bit",
   "name": "python3"
  },
  "language_info": {
   "codemirror_mode": {
    "name": "ipython",
    "version": 3
   },
   "file_extension": ".py",
   "mimetype": "text/x-python",
   "name": "python",
   "nbconvert_exporter": "python",
   "pygments_lexer": "ipython3",
   "version": "3.9.6"
  },
  "orig_nbformat": 4
 },
 "nbformat": 4,
 "nbformat_minor": 2
}